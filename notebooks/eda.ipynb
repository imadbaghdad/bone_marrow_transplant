{
 "cells": [
  {
   "cell_type": "markdown",
   "metadata": {},
   "source": [
    "# Loading the dataset"
   ]
  },
  {
   "cell_type": "code",
   "execution_count": 1,
   "metadata": {},
   "outputs": [
    {
     "data": {
      "application/vnd.microsoft.datawrangler.viewer.v0+json": {
       "columns": [
        {
         "name": "index",
         "rawType": "int64",
         "type": "integer"
        },
        {
         "name": "Recipientgender",
         "rawType": "object",
         "type": "unknown"
        },
        {
         "name": "Stemcellsource",
         "rawType": "object",
         "type": "unknown"
        },
        {
         "name": "Donorage",
         "rawType": "float64",
         "type": "float"
        },
        {
         "name": "Donorage35",
         "rawType": "object",
         "type": "unknown"
        },
        {
         "name": "IIIV",
         "rawType": "object",
         "type": "unknown"
        },
        {
         "name": "Gendermatch",
         "rawType": "object",
         "type": "unknown"
        },
        {
         "name": "DonorABO",
         "rawType": "object",
         "type": "unknown"
        },
        {
         "name": "RecipientABO",
         "rawType": "object",
         "type": "unknown"
        },
        {
         "name": "RecipientRh",
         "rawType": "object",
         "type": "unknown"
        },
        {
         "name": "ABOmatch",
         "rawType": "object",
         "type": "unknown"
        },
        {
         "name": "CMVstatus",
         "rawType": "object",
         "type": "unknown"
        },
        {
         "name": "DonorCMV",
         "rawType": "object",
         "type": "unknown"
        },
        {
         "name": "RecipientCMV",
         "rawType": "object",
         "type": "unknown"
        },
        {
         "name": "Disease",
         "rawType": "object",
         "type": "unknown"
        },
        {
         "name": "Riskgroup",
         "rawType": "object",
         "type": "unknown"
        },
        {
         "name": "Txpostrelapse",
         "rawType": "object",
         "type": "unknown"
        },
        {
         "name": "Diseasegroup",
         "rawType": "object",
         "type": "unknown"
        },
        {
         "name": "HLAmatch",
         "rawType": "object",
         "type": "unknown"
        },
        {
         "name": "HLAmismatch",
         "rawType": "object",
         "type": "unknown"
        },
        {
         "name": "Antigen",
         "rawType": "object",
         "type": "unknown"
        },
        {
         "name": "Alel",
         "rawType": "object",
         "type": "unknown"
        },
        {
         "name": "HLAgrI",
         "rawType": "object",
         "type": "unknown"
        },
        {
         "name": "Recipientage",
         "rawType": "float64",
         "type": "float"
        },
        {
         "name": "Recipientage10",
         "rawType": "object",
         "type": "unknown"
        },
        {
         "name": "Recipientageint",
         "rawType": "object",
         "type": "unknown"
        },
        {
         "name": "Relapse",
         "rawType": "object",
         "type": "unknown"
        },
        {
         "name": "aGvHDIIIIV",
         "rawType": "object",
         "type": "unknown"
        },
        {
         "name": "extcGvHD",
         "rawType": "object",
         "type": "unknown"
        },
        {
         "name": "CD34kgx10d6",
         "rawType": "float64",
         "type": "float"
        },
        {
         "name": "CD3dCD34",
         "rawType": "float64",
         "type": "float"
        },
        {
         "name": "CD3dkgx10d8",
         "rawType": "float64",
         "type": "float"
        },
        {
         "name": "Rbodymass",
         "rawType": "float64",
         "type": "float"
        },
        {
         "name": "ANCrecovery",
         "rawType": "float64",
         "type": "float"
        },
        {
         "name": "PLTrecovery",
         "rawType": "float64",
         "type": "float"
        },
        {
         "name": "time_to_aGvHD_III_IV",
         "rawType": "float64",
         "type": "float"
        },
        {
         "name": "survival_time",
         "rawType": "float64",
         "type": "float"
        },
        {
         "name": "survival_status",
         "rawType": "float64",
         "type": "float"
        }
       ],
       "conversionMethod": "pd.DataFrame",
       "ref": "2c202450-cbad-4bf7-b047-2ca373d94c6f",
       "rows": [
        [
         "0",
         "b'1'",
         "b'1'",
         "22.830137",
         "b'0'",
         "b'1'",
         "b'0'",
         "b'1'",
         "b'1'",
         "b'1'",
         "b'0'",
         "b'3'",
         "b'1'",
         "b'1'",
         "b'ALL'",
         "b'1'",
         "b'0'",
         "b'1'",
         "b'0'",
         "b'0'",
         "b'-1'",
         "b'-1'",
         "b'0'",
         "9.6",
         "b'0'",
         "b'1'",
         "b'0'",
         "b'0'",
         "b'1'",
         "7.2",
         "1.33876",
         "5.38",
         "35.0",
         "19.0",
         "51.0",
         "32.0",
         "999.0",
         "0.0"
        ],
        [
         "1",
         "b'1'",
         "b'0'",
         "23.342466",
         "b'0'",
         "b'1'",
         "b'0'",
         "b'-1'",
         "b'-1'",
         "b'1'",
         "b'0'",
         "b'0'",
         "b'0'",
         "b'0'",
         "b'ALL'",
         "b'0'",
         "b'0'",
         "b'1'",
         "b'0'",
         "b'0'",
         "b'-1'",
         "b'-1'",
         "b'0'",
         "4.0",
         "b'0'",
         "b'0'",
         "b'1'",
         "b'1'",
         "b'1'",
         "4.5",
         "11.078295",
         "0.41",
         "20.6",
         "16.0",
         "37.0",
         "1000000.0",
         "163.0",
         "1.0"
        ],
        [
         "2",
         "b'1'",
         "b'0'",
         "26.394521",
         "b'0'",
         "b'1'",
         "b'0'",
         "b'-1'",
         "b'-1'",
         "b'1'",
         "b'0'",
         "b'2'",
         "b'0'",
         "b'1'",
         "b'ALL'",
         "b'0'",
         "b'0'",
         "b'1'",
         "b'0'",
         "b'0'",
         "b'-1'",
         "b'-1'",
         "b'0'",
         "6.6",
         "b'0'",
         "b'1'",
         "b'1'",
         "b'1'",
         "b'1'",
         "7.94",
         "19.01323",
         "0.42",
         "23.4",
         "23.0",
         "20.0",
         "1000000.0",
         "435.0",
         "1.0"
        ],
        [
         "3",
         "b'0'",
         "b'0'",
         "39.684932",
         "b'1'",
         "b'1'",
         "b'0'",
         "b'1'",
         "b'2'",
         "b'1'",
         "b'1'",
         "b'1'",
         "b'1'",
         "b'0'",
         "b'AML'",
         "b'0'",
         "b'0'",
         "b'1'",
         "b'0'",
         "b'0'",
         "b'-1'",
         "b'-1'",
         "b'0'",
         "18.1",
         "b'1'",
         "b'2'",
         "b'0'",
         "b'0'",
         "b'?'",
         "4.25",
         "29.481647",
         "0.14",
         "50.0",
         "23.0",
         "29.0",
         "19.0",
         "53.0",
         "1.0"
        ],
        [
         "4",
         "b'0'",
         "b'1'",
         "33.358904",
         "b'0'",
         "b'0'",
         "b'0'",
         "b'1'",
         "b'2'",
         "b'0'",
         "b'1'",
         "b'0'",
         "b'0'",
         "b'1'",
         "b'chronic'",
         "b'1'",
         "b'0'",
         "b'1'",
         "b'1'",
         "b'0'",
         "b'1'",
         "b'0'",
         "b'1'",
         "1.3",
         "b'0'",
         "b'0'",
         "b'0'",
         "b'1'",
         "b'1'",
         "51.85",
         "3.972255",
         "13.05",
         "9.0",
         "14.0",
         "14.0",
         "1000000.0",
         "2043.0",
         "0.0"
        ]
       ],
       "shape": {
        "columns": 37,
        "rows": 5
       }
      },
      "text/html": [
       "<div>\n",
       "<style scoped>\n",
       "    .dataframe tbody tr th:only-of-type {\n",
       "        vertical-align: middle;\n",
       "    }\n",
       "\n",
       "    .dataframe tbody tr th {\n",
       "        vertical-align: top;\n",
       "    }\n",
       "\n",
       "    .dataframe thead th {\n",
       "        text-align: right;\n",
       "    }\n",
       "</style>\n",
       "<table border=\"1\" class=\"dataframe\">\n",
       "  <thead>\n",
       "    <tr style=\"text-align: right;\">\n",
       "      <th></th>\n",
       "      <th>Recipientgender</th>\n",
       "      <th>Stemcellsource</th>\n",
       "      <th>Donorage</th>\n",
       "      <th>Donorage35</th>\n",
       "      <th>IIIV</th>\n",
       "      <th>Gendermatch</th>\n",
       "      <th>DonorABO</th>\n",
       "      <th>RecipientABO</th>\n",
       "      <th>RecipientRh</th>\n",
       "      <th>ABOmatch</th>\n",
       "      <th>...</th>\n",
       "      <th>extcGvHD</th>\n",
       "      <th>CD34kgx10d6</th>\n",
       "      <th>CD3dCD34</th>\n",
       "      <th>CD3dkgx10d8</th>\n",
       "      <th>Rbodymass</th>\n",
       "      <th>ANCrecovery</th>\n",
       "      <th>PLTrecovery</th>\n",
       "      <th>time_to_aGvHD_III_IV</th>\n",
       "      <th>survival_time</th>\n",
       "      <th>survival_status</th>\n",
       "    </tr>\n",
       "  </thead>\n",
       "  <tbody>\n",
       "    <tr>\n",
       "      <th>0</th>\n",
       "      <td>b'1'</td>\n",
       "      <td>b'1'</td>\n",
       "      <td>22.830137</td>\n",
       "      <td>b'0'</td>\n",
       "      <td>b'1'</td>\n",
       "      <td>b'0'</td>\n",
       "      <td>b'1'</td>\n",
       "      <td>b'1'</td>\n",
       "      <td>b'1'</td>\n",
       "      <td>b'0'</td>\n",
       "      <td>...</td>\n",
       "      <td>b'1'</td>\n",
       "      <td>7.20</td>\n",
       "      <td>1.338760</td>\n",
       "      <td>5.38</td>\n",
       "      <td>35.0</td>\n",
       "      <td>19.0</td>\n",
       "      <td>51.0</td>\n",
       "      <td>32.0</td>\n",
       "      <td>999.0</td>\n",
       "      <td>0.0</td>\n",
       "    </tr>\n",
       "    <tr>\n",
       "      <th>1</th>\n",
       "      <td>b'1'</td>\n",
       "      <td>b'0'</td>\n",
       "      <td>23.342466</td>\n",
       "      <td>b'0'</td>\n",
       "      <td>b'1'</td>\n",
       "      <td>b'0'</td>\n",
       "      <td>b'-1'</td>\n",
       "      <td>b'-1'</td>\n",
       "      <td>b'1'</td>\n",
       "      <td>b'0'</td>\n",
       "      <td>...</td>\n",
       "      <td>b'1'</td>\n",
       "      <td>4.50</td>\n",
       "      <td>11.078295</td>\n",
       "      <td>0.41</td>\n",
       "      <td>20.6</td>\n",
       "      <td>16.0</td>\n",
       "      <td>37.0</td>\n",
       "      <td>1000000.0</td>\n",
       "      <td>163.0</td>\n",
       "      <td>1.0</td>\n",
       "    </tr>\n",
       "    <tr>\n",
       "      <th>2</th>\n",
       "      <td>b'1'</td>\n",
       "      <td>b'0'</td>\n",
       "      <td>26.394521</td>\n",
       "      <td>b'0'</td>\n",
       "      <td>b'1'</td>\n",
       "      <td>b'0'</td>\n",
       "      <td>b'-1'</td>\n",
       "      <td>b'-1'</td>\n",
       "      <td>b'1'</td>\n",
       "      <td>b'0'</td>\n",
       "      <td>...</td>\n",
       "      <td>b'1'</td>\n",
       "      <td>7.94</td>\n",
       "      <td>19.013230</td>\n",
       "      <td>0.42</td>\n",
       "      <td>23.4</td>\n",
       "      <td>23.0</td>\n",
       "      <td>20.0</td>\n",
       "      <td>1000000.0</td>\n",
       "      <td>435.0</td>\n",
       "      <td>1.0</td>\n",
       "    </tr>\n",
       "    <tr>\n",
       "      <th>3</th>\n",
       "      <td>b'0'</td>\n",
       "      <td>b'0'</td>\n",
       "      <td>39.684932</td>\n",
       "      <td>b'1'</td>\n",
       "      <td>b'1'</td>\n",
       "      <td>b'0'</td>\n",
       "      <td>b'1'</td>\n",
       "      <td>b'2'</td>\n",
       "      <td>b'1'</td>\n",
       "      <td>b'1'</td>\n",
       "      <td>...</td>\n",
       "      <td>b'?'</td>\n",
       "      <td>4.25</td>\n",
       "      <td>29.481647</td>\n",
       "      <td>0.14</td>\n",
       "      <td>50.0</td>\n",
       "      <td>23.0</td>\n",
       "      <td>29.0</td>\n",
       "      <td>19.0</td>\n",
       "      <td>53.0</td>\n",
       "      <td>1.0</td>\n",
       "    </tr>\n",
       "    <tr>\n",
       "      <th>4</th>\n",
       "      <td>b'0'</td>\n",
       "      <td>b'1'</td>\n",
       "      <td>33.358904</td>\n",
       "      <td>b'0'</td>\n",
       "      <td>b'0'</td>\n",
       "      <td>b'0'</td>\n",
       "      <td>b'1'</td>\n",
       "      <td>b'2'</td>\n",
       "      <td>b'0'</td>\n",
       "      <td>b'1'</td>\n",
       "      <td>...</td>\n",
       "      <td>b'1'</td>\n",
       "      <td>51.85</td>\n",
       "      <td>3.972255</td>\n",
       "      <td>13.05</td>\n",
       "      <td>9.0</td>\n",
       "      <td>14.0</td>\n",
       "      <td>14.0</td>\n",
       "      <td>1000000.0</td>\n",
       "      <td>2043.0</td>\n",
       "      <td>0.0</td>\n",
       "    </tr>\n",
       "  </tbody>\n",
       "</table>\n",
       "<p>5 rows × 37 columns</p>\n",
       "</div>"
      ],
      "text/plain": [
       "  Recipientgender Stemcellsource   Donorage Donorage35  IIIV Gendermatch  \\\n",
       "0            b'1'           b'1'  22.830137       b'0'  b'1'        b'0'   \n",
       "1            b'1'           b'0'  23.342466       b'0'  b'1'        b'0'   \n",
       "2            b'1'           b'0'  26.394521       b'0'  b'1'        b'0'   \n",
       "3            b'0'           b'0'  39.684932       b'1'  b'1'        b'0'   \n",
       "4            b'0'           b'1'  33.358904       b'0'  b'0'        b'0'   \n",
       "\n",
       "  DonorABO RecipientABO RecipientRh ABOmatch  ... extcGvHD CD34kgx10d6  \\\n",
       "0     b'1'         b'1'        b'1'     b'0'  ...     b'1'        7.20   \n",
       "1    b'-1'        b'-1'        b'1'     b'0'  ...     b'1'        4.50   \n",
       "2    b'-1'        b'-1'        b'1'     b'0'  ...     b'1'        7.94   \n",
       "3     b'1'         b'2'        b'1'     b'1'  ...     b'?'        4.25   \n",
       "4     b'1'         b'2'        b'0'     b'1'  ...     b'1'       51.85   \n",
       "\n",
       "    CD3dCD34 CD3dkgx10d8 Rbodymass ANCrecovery PLTrecovery  \\\n",
       "0   1.338760        5.38      35.0        19.0        51.0   \n",
       "1  11.078295        0.41      20.6        16.0        37.0   \n",
       "2  19.013230        0.42      23.4        23.0        20.0   \n",
       "3  29.481647        0.14      50.0        23.0        29.0   \n",
       "4   3.972255       13.05       9.0        14.0        14.0   \n",
       "\n",
       "  time_to_aGvHD_III_IV survival_time survival_status  \n",
       "0                 32.0         999.0             0.0  \n",
       "1            1000000.0         163.0             1.0  \n",
       "2            1000000.0         435.0             1.0  \n",
       "3                 19.0          53.0             1.0  \n",
       "4            1000000.0        2043.0             0.0  \n",
       "\n",
       "[5 rows x 37 columns]"
      ]
     },
     "execution_count": 1,
     "metadata": {},
     "output_type": "execute_result"
    }
   ],
   "source": [
    "import pandas as pd\n",
    "from scipy.io import arff\n",
    "\n",
    "# Load the ARFF file\n",
    "data, meta = arff.loadarff(\"../data/bone-marrow.arff\")\n",
    "\n",
    "# Convert to a pandas DataFrame\n",
    "df = pd.DataFrame(data)\n",
    "\n",
    "# Display the first few rows of the DataFrame\n",
    "df.head()"
   ]
  },
  {
   "cell_type": "markdown",
   "metadata": {},
   "source": [
    "# Checking for missing values"
   ]
  },
  {
   "cell_type": "code",
   "execution_count": 2,
   "metadata": {},
   "outputs": [
    {
     "name": "stdout",
     "output_type": "stream",
     "text": [
      "Missing values in each column:\n",
      "Recipientgender         0\n",
      "Stemcellsource          0\n",
      "Donorage                0\n",
      "Donorage35              0\n",
      "IIIV                    0\n",
      "Gendermatch             0\n",
      "DonorABO                0\n",
      "RecipientABO            0\n",
      "RecipientRh             0\n",
      "ABOmatch                0\n",
      "CMVstatus               0\n",
      "DonorCMV                0\n",
      "RecipientCMV            0\n",
      "Disease                 0\n",
      "Riskgroup               0\n",
      "Txpostrelapse           0\n",
      "Diseasegroup            0\n",
      "HLAmatch                0\n",
      "HLAmismatch             0\n",
      "Antigen                 0\n",
      "Alel                    0\n",
      "HLAgrI                  0\n",
      "Recipientage            0\n",
      "Recipientage10          0\n",
      "Recipientageint         0\n",
      "Relapse                 0\n",
      "aGvHDIIIIV              0\n",
      "extcGvHD                0\n",
      "CD34kgx10d6             0\n",
      "CD3dCD34                5\n",
      "CD3dkgx10d8             5\n",
      "Rbodymass               2\n",
      "ANCrecovery             0\n",
      "PLTrecovery             0\n",
      "time_to_aGvHD_III_IV    0\n",
      "survival_time           0\n",
      "survival_status         0\n",
      "dtype: int64\n"
     ]
    }
   ],
   "source": [
    "# Check for missing values\n",
    "missing_values = df.isnull().sum()\n",
    "print(\"Missing values in each column:\")\n",
    "print(missing_values)"
   ]
  },
  {
   "cell_type": "markdown",
   "metadata": {},
   "source": [
    "# Visualizing the missing data"
   ]
  },
  {
   "cell_type": "code",
   "execution_count": 3,
   "metadata": {},
   "outputs": [
    {
     "data": {
      "image/png": "[encoded data removed]",
      "text/plain": [
       "<Figure size 1000x600 with 1 Axes>"
      ]
     },
     "metadata": {},
     "output_type": "display_data"
    }
   ],
   "source": [
    "import seaborn as sns\n",
    "import matplotlib.pyplot as plt\n",
    "\n",
    "# Visualize missing values\n",
    "plt.figure(figsize=(10, 6))\n",
    "sns.heatmap(df.isnull(), cbar=False, cmap='viridis')\n",
    "plt.title('Missing Values Heatmap')\n",
    "plt.show()"
   ]
  },
  {
   "cell_type": "markdown",
   "metadata": {},
   "source": [
    "# Filling missing values with mean"
   ]
  },
  {
   "cell_type": "code",
   "execution_count": 4,
   "metadata": {},
   "outputs": [
    {
     "ename": "TypeError",
     "evalue": "Could not convert [b'1110010111001111100111010111100111101000111110100001110111001110101011010001001111110011100100011110110010001111010010001101010111000110111100011010111101011110111110110010011010111110011'\n b'1000101011111010111111110101111101111111101011010011111111011000001111111010010111110101101011111111111111111101111110111101110111111111010101110111110111011110111110111111111111101111111'\n b'0001000000011001111011000011010010101110001001010000110000101011110100100111100000101100001000100011011000011110001101000001011011101100011111110100110101001010000100000101011110100110001'\n b'1111001101010110111001101011111010100010110001111010001001001010001011110011110110100001111111010111101110110111010110100111101010101111001011000010000111101110110010110111100111111010111'\n b'0000000001000000000010000110000010000000100010100000000000000100000000000001000000000010100100010010010000001000000000000001000011000000000000010010101001000000010000000010011010011000000'\n b'1-1-1112002101001022010-111-12-1111110-11100010100000-10100-111221-1011-1000111012012010-11111111-110-100002001010-1010-100101001000-101-11010010000111000-10-100001-1-11022101-1-1011210-1-1-1-10120112-11100111011111'\n b'1-1-12201100-11111-10010121-1-10-1-101-11-1011-1-1000-11-1101-111001120000-1-101-1-110111-101001010-1-1-111111211-1-1011011110100011101-111-10-1-1010-11-1112011?1010-10-101-100-1-1011110112-1-1-1-1111121-1-11-1-1-110212-1-12-112-1110-102'\n b'11110101111111111111111111111111111011111111011111101101011111110111111111111110001111101101100111111111111111111011111101111011??111011111111100111111111111101101111111101111111001101111'\n b'000111111110110111111101010110101100110101111010100010111111111111100111111111111100001111110110101001010111111111011111001011111?110110111000111110111011001001011011111111111111011101111'\n b'30210??12210100311?33233000?23?122313221100?0023231220333332001312232230302?30233223220022000?101000132?0?200220?1100233000002023?1230301?022210222?3??232222232222213232301011202201332301'\n b'10010?01001010011101101100000101011110011001000101100011111000111001001010001001100100000000011010001100010000001110001100000000101010101100001000001?0010000010000011010101011000001110101'\n b'101011?01100010100?11111000?11?011101110000?0011110110111111000101111110101?10111111110011000?000000011?01100110?0000111000001011?0110100?011100111?1??111111111111101111100000101100111100'\n b'ALLALLALLAMLchronicchronicAMLnonmalignantnonmalignantnonmalignantchronicchronicALLlymphomaAMLchronicchronicchronicALLALLALLnonmalignantchronicnonmalignantALLnonmalignantnonmalignantALLchronicALLALLALLALLnonmalignantchronicAMLnonmalignantchronicAMLAMLALLALLAMLnonmalignantAMLALLchronicnonmalignantALLALLALLALLnonmalignantnonmalignantnonmalignantnonmalignantnonmalignantchronicnonmalignantALLALLnonmalignantALLAMLchronicALLchronicchronicnonmalignantAMLALLALLnonmalignantlymphomachronicAMLchronicchronicALLchronicALLlymphomalymphomalymphomaAMLnonmalignantchronicAMLALLALLnonmalignantAMLALLnonmalignantchronicALLchroniclymphomachronicchronicAMLnonmalignantALLlymphomachronicAMLchronicALLAMLnonmalignantALLchronicchronicchronicchronicnonmalignantALLALLchronicnonmalignantALLchronicchronicchronicchronicALLAMLALLALLALLALLnonmalignantALLchronicAMLALLALLlymphomachronicALLALLAMLALLALLchronicAMLALLAMLchronicALLchronicALLchronicALLALLALLAMLAMLchronicchronicAMLALLALLALLALLALLnonmalignantALLAMLAMLAMLALLAMLAMLALLALLnonmalignantALLAMLALLALLAMLlymphomaAMLnonmalignantchronicnonmalignant'\n b'1000110000110111000010000010100000110100000000101100000011001101001101000100110100110001000000111010101100001010101000000100001001000010011001000110111000001100000101100101110000100111001'\n b'0000010000000000000010000010000000010000000000001000000010001101000001000000000000100000000000000000100100001000000000000000001000000000000000000000010000000100000100100100010000000010001'\n b'1111111000111111111110101001111110110111111011101111000001011011111101110111111111111011110110111111101111111011111011101111111111101111111111111111111111111111111111011111111101111111010'\n b'0000100301120001100011010003001010100100100000102002120231001010010211000101130100011002011010100020001100212021122110100100102120101102021002111210100001102110013001010021201101112000010'\n b'0000000100010000000000000001000000000000000000001001010110000000000100000000010000000001000000000010000000101010011000000000001010000001010001000100000000001000001000000010100000001000000'\n b'-1-1-1-11-1-11-1001-1-1-110-1-1-110-11-1-1-11-1-11-10-11-1-11-1-11-1-1-1-1-10-12-1-1110-1111-1-10-11-1-11-1100-1-1-11-1110-11-1-1-111-1-12-111-11-11-1-1-12-1-1-111-1-1211-11101211-10-1-11-1-10-1211-11-110-11-120-1-1111111-11-1-1-1-111-1101-1-111-1-10-11-1-1111-111-10010-1-1-1-11?'\n b'-1-1-1-10-1-12-1111-1-1-101-1-1-101-10-1-1-12-1-10-11-10-1-10-1-10-1-1-1-1-11-10-1-1102-1120-1-11-10-1-10-1111-1-1-10-1003-10-1-1-100-1-10-100-10-10-1-1-10-1-1-100-1-1001-11011000-11-1-10-1-11-1001-10-101-11-101-1-1100010-10-1-1-1-100-1110-1-102-1-11-10-1-1101-100-11102-1-1-1-10?'\n b'0000100703240001200011030007001020100100300000204005350473002010010422000101170100011004011010100040001100415041244110200100204340101204043004111430100001104310017002010051401102214000010'\n b'0001001100010111100110110000000001001001100011110100000000001011111101111111000001111011010100011000101010101000001000101001111011010110111110000101101111101101100100001010011001000011100'\n b'1012012210021222200221221100011002002002200122221211001000102022222202222222011112222022021201122111202120212111112111202002222022120221222220110212212222222202210210012120022002110122211'\n b'0110000000000100000000000000010000000100000000000000000000001000000000000000100110010101000000100100000000001000000010000000000010000000100000001000001000000100011001000101010000000010000'\n b'0110110011111111111111110110011101011111111111010101111110111111111101111111101111111111011110111100111101011100111111111010111101011011110100111101111010111101101111011111011111111101101'\n b'111?11??11001111?1111011011?1111?11011111?1?11110111111111?1111?0?1101111?1011111??1?111111000111?0101?001101?1110?111011?111001101?01111????11111011??10?111111011111111011?1111111??11101'] to numeric",
     "output_type": "error",
     "traceback": [
      "\u001b[1;31m---------------------------------------------------------------------------\u001b[0m",
      "\u001b[1;31mValueError\u001b[0m                                Traceback (most recent call last)",
      "File \u001b[1;32mc:\\Users\\HP\\anaconda3\\Lib\\site-packages\\pandas\\core\\nanops.py:1688\u001b[0m, in \u001b[0;36m_ensure_numeric\u001b[1;34m(x)\u001b[0m\n\u001b[0;32m   1687\u001b[0m \u001b[38;5;28;01mtry\u001b[39;00m:\n\u001b[1;32m-> 1688\u001b[0m     x \u001b[38;5;241m=\u001b[39m x\u001b[38;5;241m.\u001b[39mastype(np\u001b[38;5;241m.\u001b[39mcomplex128)\n\u001b[0;32m   1689\u001b[0m \u001b[38;5;28;01mexcept\u001b[39;00m (\u001b[38;5;167;01mTypeError\u001b[39;00m, \u001b[38;5;167;01mValueError\u001b[39;00m):\n",
      "\u001b[1;31mValueError\u001b[0m: complex() arg is a malformed string",
      "\nDuring handling of the above exception, another exception occurred:\n",
      "\u001b[1;31mValueError\u001b[0m                                Traceback (most recent call last)",
      "File \u001b[1;32mc:\\Users\\HP\\anaconda3\\Lib\\site-packages\\pandas\\core\\nanops.py:1691\u001b[0m, in \u001b[0;36m_ensure_numeric\u001b[1;34m(x)\u001b[0m\n\u001b[0;32m   1690\u001b[0m \u001b[38;5;28;01mtry\u001b[39;00m:\n\u001b[1;32m-> 1691\u001b[0m     x \u001b[38;5;241m=\u001b[39m x\u001b[38;5;241m.\u001b[39mastype(np\u001b[38;5;241m.\u001b[39mfloat64)\n\u001b[0;32m   1692\u001b[0m \u001b[38;5;28;01mexcept\u001b[39;00m \u001b[38;5;167;01mValueError\u001b[39;00m \u001b[38;5;28;01mas\u001b[39;00m err:\n\u001b[0;32m   1693\u001b[0m     \u001b[38;5;66;03m# GH#29941 we get here with object arrays containing strs\u001b[39;00m\n",
      "\u001b[1;31mValueError\u001b[0m: could not convert string to float: b'1-1-1112002101001022010-111-12-1111110-11100010100000-10100-111221-1011-1000111012012010-11111111-110-100002001010-1010-100101001000-101-11010010000111000-10-100001-1-11022101-1-1011210-1-1-1-10120112-11100111011111'",
      "\nThe above exception was the direct cause of the following exception:\n",
      "\u001b[1;31mTypeError\u001b[0m                                 Traceback (most recent call last)",
      "Cell \u001b[1;32mIn[4], line 2\u001b[0m\n\u001b[0;32m      1\u001b[0m \u001b[38;5;66;03m# Fill missing values with the mean of each column\u001b[39;00m\n\u001b[1;32m----> 2\u001b[0m df\u001b[38;5;241m.\u001b[39mfillna(df\u001b[38;5;241m.\u001b[39mmean(), inplace\u001b[38;5;241m=\u001b[39m\u001b[38;5;28;01mTrue\u001b[39;00m)\n\u001b[0;32m      4\u001b[0m \u001b[38;5;66;03m# Verify that there are no more missing values\u001b[39;00m\n\u001b[0;32m      5\u001b[0m plt\u001b[38;5;241m.\u001b[39mfigure(figsize\u001b[38;5;241m=\u001b[39m(\u001b[38;5;241m10\u001b[39m, \u001b[38;5;241m6\u001b[39m))\n",
      "File \u001b[1;32mc:\\Users\\HP\\anaconda3\\Lib\\site-packages\\pandas\\core\\frame.py:11693\u001b[0m, in \u001b[0;36mDataFrame.mean\u001b[1;34m(self, axis, skipna, numeric_only, **kwargs)\u001b[0m\n\u001b[0;32m  11685\u001b[0m \u001b[38;5;129m@doc\u001b[39m(make_doc(\u001b[38;5;124m\"\u001b[39m\u001b[38;5;124mmean\u001b[39m\u001b[38;5;124m\"\u001b[39m, ndim\u001b[38;5;241m=\u001b[39m\u001b[38;5;241m2\u001b[39m))\n\u001b[0;32m  11686\u001b[0m \u001b[38;5;28;01mdef\u001b[39;00m \u001b[38;5;21mmean\u001b[39m(\n\u001b[0;32m  11687\u001b[0m     \u001b[38;5;28mself\u001b[39m,\n\u001b[1;32m   (...)\u001b[0m\n\u001b[0;32m  11691\u001b[0m     \u001b[38;5;241m*\u001b[39m\u001b[38;5;241m*\u001b[39mkwargs,\n\u001b[0;32m  11692\u001b[0m ):\n\u001b[1;32m> 11693\u001b[0m     result \u001b[38;5;241m=\u001b[39m \u001b[38;5;28msuper\u001b[39m()\u001b[38;5;241m.\u001b[39mmean(axis, skipna, numeric_only, \u001b[38;5;241m*\u001b[39m\u001b[38;5;241m*\u001b[39mkwargs)\n\u001b[0;32m  11694\u001b[0m     \u001b[38;5;28;01mif\u001b[39;00m \u001b[38;5;28misinstance\u001b[39m(result, Series):\n\u001b[0;32m  11695\u001b[0m         result \u001b[38;5;241m=\u001b[39m result\u001b[38;5;241m.\u001b[39m__finalize__(\u001b[38;5;28mself\u001b[39m, method\u001b[38;5;241m=\u001b[39m\u001b[38;5;124m\"\u001b[39m\u001b[38;5;124mmean\u001b[39m\u001b[38;5;124m\"\u001b[39m)\n",
      "File \u001b[1;32mc:\\Users\\HP\\anaconda3\\Lib\\site-packages\\pandas\\core\\generic.py:12420\u001b[0m, in \u001b[0;36mNDFrame.mean\u001b[1;34m(self, axis, skipna, numeric_only, **kwargs)\u001b[0m\n\u001b[0;32m  12413\u001b[0m \u001b[38;5;28;01mdef\u001b[39;00m \u001b[38;5;21mmean\u001b[39m(\n\u001b[0;32m  12414\u001b[0m     \u001b[38;5;28mself\u001b[39m,\n\u001b[0;32m  12415\u001b[0m     axis: Axis \u001b[38;5;241m|\u001b[39m \u001b[38;5;28;01mNone\u001b[39;00m \u001b[38;5;241m=\u001b[39m \u001b[38;5;241m0\u001b[39m,\n\u001b[1;32m   (...)\u001b[0m\n\u001b[0;32m  12418\u001b[0m     \u001b[38;5;241m*\u001b[39m\u001b[38;5;241m*\u001b[39mkwargs,\n\u001b[0;32m  12419\u001b[0m ) \u001b[38;5;241m-\u001b[39m\u001b[38;5;241m>\u001b[39m Series \u001b[38;5;241m|\u001b[39m \u001b[38;5;28mfloat\u001b[39m:\n\u001b[1;32m> 12420\u001b[0m     \u001b[38;5;28;01mreturn\u001b[39;00m \u001b[38;5;28mself\u001b[39m\u001b[38;5;241m.\u001b[39m_stat_function(\n\u001b[0;32m  12421\u001b[0m         \u001b[38;5;124m\"\u001b[39m\u001b[38;5;124mmean\u001b[39m\u001b[38;5;124m\"\u001b[39m, nanops\u001b[38;5;241m.\u001b[39mnanmean, axis, skipna, numeric_only, \u001b[38;5;241m*\u001b[39m\u001b[38;5;241m*\u001b[39mkwargs\n\u001b[0;32m  12422\u001b[0m     )\n",
      "File \u001b[1;32mc:\\Users\\HP\\anaconda3\\Lib\\site-packages\\pandas\\core\\generic.py:12377\u001b[0m, in \u001b[0;36mNDFrame._stat_function\u001b[1;34m(self, name, func, axis, skipna, numeric_only, **kwargs)\u001b[0m\n\u001b[0;32m  12373\u001b[0m nv\u001b[38;5;241m.\u001b[39mvalidate_func(name, (), kwargs)\n\u001b[0;32m  12375\u001b[0m validate_bool_kwarg(skipna, \u001b[38;5;124m\"\u001b[39m\u001b[38;5;124mskipna\u001b[39m\u001b[38;5;124m\"\u001b[39m, none_allowed\u001b[38;5;241m=\u001b[39m\u001b[38;5;28;01mFalse\u001b[39;00m)\n\u001b[1;32m> 12377\u001b[0m \u001b[38;5;28;01mreturn\u001b[39;00m \u001b[38;5;28mself\u001b[39m\u001b[38;5;241m.\u001b[39m_reduce(\n\u001b[0;32m  12378\u001b[0m     func, name\u001b[38;5;241m=\u001b[39mname, axis\u001b[38;5;241m=\u001b[39maxis, skipna\u001b[38;5;241m=\u001b[39mskipna, numeric_only\u001b[38;5;241m=\u001b[39mnumeric_only\n\u001b[0;32m  12379\u001b[0m )\n",
      "File \u001b[1;32mc:\\Users\\HP\\anaconda3\\Lib\\site-packages\\pandas\\core\\frame.py:11562\u001b[0m, in \u001b[0;36mDataFrame._reduce\u001b[1;34m(self, op, name, axis, skipna, numeric_only, filter_type, **kwds)\u001b[0m\n\u001b[0;32m  11558\u001b[0m     df \u001b[38;5;241m=\u001b[39m df\u001b[38;5;241m.\u001b[39mT\n\u001b[0;32m  11560\u001b[0m \u001b[38;5;66;03m# After possibly _get_data and transposing, we are now in the\u001b[39;00m\n\u001b[0;32m  11561\u001b[0m \u001b[38;5;66;03m#  simple case where we can use BlockManager.reduce\u001b[39;00m\n\u001b[1;32m> 11562\u001b[0m res \u001b[38;5;241m=\u001b[39m df\u001b[38;5;241m.\u001b[39m_mgr\u001b[38;5;241m.\u001b[39mreduce(blk_func)\n\u001b[0;32m  11563\u001b[0m out \u001b[38;5;241m=\u001b[39m df\u001b[38;5;241m.\u001b[39m_constructor_from_mgr(res, axes\u001b[38;5;241m=\u001b[39mres\u001b[38;5;241m.\u001b[39maxes)\u001b[38;5;241m.\u001b[39miloc[\u001b[38;5;241m0\u001b[39m]\n\u001b[0;32m  11564\u001b[0m \u001b[38;5;28;01mif\u001b[39;00m out_dtype \u001b[38;5;129;01mis\u001b[39;00m \u001b[38;5;129;01mnot\u001b[39;00m \u001b[38;5;28;01mNone\u001b[39;00m \u001b[38;5;129;01mand\u001b[39;00m out\u001b[38;5;241m.\u001b[39mdtype \u001b[38;5;241m!=\u001b[39m \u001b[38;5;124m\"\u001b[39m\u001b[38;5;124mboolean\u001b[39m\u001b[38;5;124m\"\u001b[39m:\n",
      "File \u001b[1;32mc:\\Users\\HP\\anaconda3\\Lib\\site-packages\\pandas\\core\\internals\\managers.py:1500\u001b[0m, in \u001b[0;36mBlockManager.reduce\u001b[1;34m(self, func)\u001b[0m\n\u001b[0;32m   1498\u001b[0m res_blocks: \u001b[38;5;28mlist\u001b[39m[Block] \u001b[38;5;241m=\u001b[39m []\n\u001b[0;32m   1499\u001b[0m \u001b[38;5;28;01mfor\u001b[39;00m blk \u001b[38;5;129;01min\u001b[39;00m \u001b[38;5;28mself\u001b[39m\u001b[38;5;241m.\u001b[39mblocks:\n\u001b[1;32m-> 1500\u001b[0m     nbs \u001b[38;5;241m=\u001b[39m blk\u001b[38;5;241m.\u001b[39mreduce(func)\n\u001b[0;32m   1501\u001b[0m     res_blocks\u001b[38;5;241m.\u001b[39mextend(nbs)\n\u001b[0;32m   1503\u001b[0m index \u001b[38;5;241m=\u001b[39m Index([\u001b[38;5;28;01mNone\u001b[39;00m])  \u001b[38;5;66;03m# placeholder\u001b[39;00m\n",
      "File \u001b[1;32mc:\\Users\\HP\\anaconda3\\Lib\\site-packages\\pandas\\core\\internals\\blocks.py:404\u001b[0m, in \u001b[0;36mBlock.reduce\u001b[1;34m(self, func)\u001b[0m\n\u001b[0;32m    398\u001b[0m \u001b[38;5;129m@final\u001b[39m\n\u001b[0;32m    399\u001b[0m \u001b[38;5;28;01mdef\u001b[39;00m \u001b[38;5;21mreduce\u001b[39m(\u001b[38;5;28mself\u001b[39m, func) \u001b[38;5;241m-\u001b[39m\u001b[38;5;241m>\u001b[39m \u001b[38;5;28mlist\u001b[39m[Block]:\n\u001b[0;32m    400\u001b[0m     \u001b[38;5;66;03m# We will apply the function and reshape the result into a single-row\u001b[39;00m\n\u001b[0;32m    401\u001b[0m     \u001b[38;5;66;03m#  Block with the same mgr_locs; squeezing will be done at a higher level\u001b[39;00m\n\u001b[0;32m    402\u001b[0m     \u001b[38;5;28;01massert\u001b[39;00m \u001b[38;5;28mself\u001b[39m\u001b[38;5;241m.\u001b[39mndim \u001b[38;5;241m==\u001b[39m \u001b[38;5;241m2\u001b[39m\n\u001b[1;32m--> 404\u001b[0m     result \u001b[38;5;241m=\u001b[39m func(\u001b[38;5;28mself\u001b[39m\u001b[38;5;241m.\u001b[39mvalues)\n\u001b[0;32m    406\u001b[0m     \u001b[38;5;28;01mif\u001b[39;00m \u001b[38;5;28mself\u001b[39m\u001b[38;5;241m.\u001b[39mvalues\u001b[38;5;241m.\u001b[39mndim \u001b[38;5;241m==\u001b[39m \u001b[38;5;241m1\u001b[39m:\n\u001b[0;32m    407\u001b[0m         res_values \u001b[38;5;241m=\u001b[39m result\n",
      "File \u001b[1;32mc:\\Users\\HP\\anaconda3\\Lib\\site-packages\\pandas\\core\\frame.py:11481\u001b[0m, in \u001b[0;36mDataFrame._reduce.<locals>.blk_func\u001b[1;34m(values, axis)\u001b[0m\n\u001b[0;32m  11479\u001b[0m         \u001b[38;5;28;01mreturn\u001b[39;00m np\u001b[38;5;241m.\u001b[39marray([result])\n\u001b[0;32m  11480\u001b[0m \u001b[38;5;28;01melse\u001b[39;00m:\n\u001b[1;32m> 11481\u001b[0m     \u001b[38;5;28;01mreturn\u001b[39;00m op(values, axis\u001b[38;5;241m=\u001b[39maxis, skipna\u001b[38;5;241m=\u001b[39mskipna, \u001b[38;5;241m*\u001b[39m\u001b[38;5;241m*\u001b[39mkwds)\n",
      "File \u001b[1;32mc:\\Users\\HP\\anaconda3\\Lib\\site-packages\\pandas\\core\\nanops.py:147\u001b[0m, in \u001b[0;36mbottleneck_switch.__call__.<locals>.f\u001b[1;34m(values, axis, skipna, **kwds)\u001b[0m\n\u001b[0;32m    145\u001b[0m         result \u001b[38;5;241m=\u001b[39m alt(values, axis\u001b[38;5;241m=\u001b[39maxis, skipna\u001b[38;5;241m=\u001b[39mskipna, \u001b[38;5;241m*\u001b[39m\u001b[38;5;241m*\u001b[39mkwds)\n\u001b[0;32m    146\u001b[0m \u001b[38;5;28;01melse\u001b[39;00m:\n\u001b[1;32m--> 147\u001b[0m     result \u001b[38;5;241m=\u001b[39m alt(values, axis\u001b[38;5;241m=\u001b[39maxis, skipna\u001b[38;5;241m=\u001b[39mskipna, \u001b[38;5;241m*\u001b[39m\u001b[38;5;241m*\u001b[39mkwds)\n\u001b[0;32m    149\u001b[0m \u001b[38;5;28;01mreturn\u001b[39;00m result\n",
      "File \u001b[1;32mc:\\Users\\HP\\anaconda3\\Lib\\site-packages\\pandas\\core\\nanops.py:404\u001b[0m, in \u001b[0;36m_datetimelike_compat.<locals>.new_func\u001b[1;34m(values, axis, skipna, mask, **kwargs)\u001b[0m\n\u001b[0;32m    401\u001b[0m \u001b[38;5;28;01mif\u001b[39;00m datetimelike \u001b[38;5;129;01mand\u001b[39;00m mask \u001b[38;5;129;01mis\u001b[39;00m \u001b[38;5;28;01mNone\u001b[39;00m:\n\u001b[0;32m    402\u001b[0m     mask \u001b[38;5;241m=\u001b[39m isna(values)\n\u001b[1;32m--> 404\u001b[0m result \u001b[38;5;241m=\u001b[39m func(values, axis\u001b[38;5;241m=\u001b[39maxis, skipna\u001b[38;5;241m=\u001b[39mskipna, mask\u001b[38;5;241m=\u001b[39mmask, \u001b[38;5;241m*\u001b[39m\u001b[38;5;241m*\u001b[39mkwargs)\n\u001b[0;32m    406\u001b[0m \u001b[38;5;28;01mif\u001b[39;00m datetimelike:\n\u001b[0;32m    407\u001b[0m     result \u001b[38;5;241m=\u001b[39m _wrap_results(result, orig_values\u001b[38;5;241m.\u001b[39mdtype, fill_value\u001b[38;5;241m=\u001b[39miNaT)\n",
      "File \u001b[1;32mc:\\Users\\HP\\anaconda3\\Lib\\site-packages\\pandas\\core\\nanops.py:720\u001b[0m, in \u001b[0;36mnanmean\u001b[1;34m(values, axis, skipna, mask)\u001b[0m\n\u001b[0;32m    718\u001b[0m count \u001b[38;5;241m=\u001b[39m _get_counts(values\u001b[38;5;241m.\u001b[39mshape, mask, axis, dtype\u001b[38;5;241m=\u001b[39mdtype_count)\n\u001b[0;32m    719\u001b[0m the_sum \u001b[38;5;241m=\u001b[39m values\u001b[38;5;241m.\u001b[39msum(axis, dtype\u001b[38;5;241m=\u001b[39mdtype_sum)\n\u001b[1;32m--> 720\u001b[0m the_sum \u001b[38;5;241m=\u001b[39m _ensure_numeric(the_sum)\n\u001b[0;32m    722\u001b[0m \u001b[38;5;28;01mif\u001b[39;00m axis \u001b[38;5;129;01mis\u001b[39;00m \u001b[38;5;129;01mnot\u001b[39;00m \u001b[38;5;28;01mNone\u001b[39;00m \u001b[38;5;129;01mand\u001b[39;00m \u001b[38;5;28mgetattr\u001b[39m(the_sum, \u001b[38;5;124m\"\u001b[39m\u001b[38;5;124mndim\u001b[39m\u001b[38;5;124m\"\u001b[39m, \u001b[38;5;28;01mFalse\u001b[39;00m):\n\u001b[0;32m    723\u001b[0m     count \u001b[38;5;241m=\u001b[39m cast(np\u001b[38;5;241m.\u001b[39mndarray, count)\n",
      "File \u001b[1;32mc:\\Users\\HP\\anaconda3\\Lib\\site-packages\\pandas\\core\\nanops.py:1694\u001b[0m, in \u001b[0;36m_ensure_numeric\u001b[1;34m(x)\u001b[0m\n\u001b[0;32m   1691\u001b[0m         x \u001b[38;5;241m=\u001b[39m x\u001b[38;5;241m.\u001b[39mastype(np\u001b[38;5;241m.\u001b[39mfloat64)\n\u001b[0;32m   1692\u001b[0m     \u001b[38;5;28;01mexcept\u001b[39;00m \u001b[38;5;167;01mValueError\u001b[39;00m \u001b[38;5;28;01mas\u001b[39;00m err:\n\u001b[0;32m   1693\u001b[0m         \u001b[38;5;66;03m# GH#29941 we get here with object arrays containing strs\u001b[39;00m\n\u001b[1;32m-> 1694\u001b[0m         \u001b[38;5;28;01mraise\u001b[39;00m \u001b[38;5;167;01mTypeError\u001b[39;00m(\u001b[38;5;124mf\u001b[39m\u001b[38;5;124m\"\u001b[39m\u001b[38;5;124mCould not convert \u001b[39m\u001b[38;5;132;01m{\u001b[39;00mx\u001b[38;5;132;01m}\u001b[39;00m\u001b[38;5;124m to numeric\u001b[39m\u001b[38;5;124m\"\u001b[39m) \u001b[38;5;28;01mfrom\u001b[39;00m \u001b[38;5;21;01merr\u001b[39;00m\n\u001b[0;32m   1695\u001b[0m \u001b[38;5;28;01melse\u001b[39;00m:\n\u001b[0;32m   1696\u001b[0m     \u001b[38;5;28;01mif\u001b[39;00m \u001b[38;5;129;01mnot\u001b[39;00m np\u001b[38;5;241m.\u001b[39many(np\u001b[38;5;241m.\u001b[39mimag(x)):\n",
      "\u001b[1;31mTypeError\u001b[0m: Could not convert [b'1110010111001111100111010111100111101000111110100001110111001110101011010001001111110011100100011110110010001111010010001101010111000110111100011010111101011110111110110010011010111110011'\n b'1000101011111010111111110101111101111111101011010011111111011000001111111010010111110101101011111111111111111101111110111101110111111111010101110111110111011110111110111111111111101111111'\n b'0001000000011001111011000011010010101110001001010000110000101011110100100111100000101100001000100011011000011110001101000001011011101100011111110100110101001010000100000101011110100110001'\n b'1111001101010110111001101011111010100010110001111010001001001010001011110011110110100001111111010111101110110111010110100111101010101111001011000010000111101110110010110111100111111010111'\n b'0000000001000000000010000110000010000000100010100000000000000100000000000001000000000010100100010010010000001000000000000001000011000000000000010010101001000000010000000010011010011000000'\n b'1-1-1112002101001022010-111-12-1111110-11100010100000-10100-111221-1011-1000111012012010-11111111-110-100002001010-1010-100101001000-101-11010010000111000-10-100001-1-11022101-1-1011210-1-1-1-10120112-11100111011111'\n b'1-1-12201100-11111-10010121-1-10-1-101-11-1011-1-1000-11-1101-111001120000-1-101-1-110111-101001010-1-1-111111211-1-1011011110100011101-111-10-1-1010-11-1112011?1010-10-101-100-1-1011110112-1-1-1-1111121-1-11-1-1-110212-1-12-112-1110-102'\n b'11110101111111111111111111111111111011111111011111101101011111110111111111111110001111101101100111111111111111111011111101111011??111011111111100111111111111101101111111101111111001101111'\n b'000111111110110111111101010110101100110101111010100010111111111111100111111111111100001111110110101001010111111111011111001011111?110110111000111110111011001001011011111111111111011101111'\n b'30210??12210100311?33233000?23?122313221100?0023231220333332001312232230302?30233223220022000?101000132?0?200220?1100233000002023?1230301?022210222?3??232222232222213232301011202201332301'\n b'10010?01001010011101101100000101011110011001000101100011111000111001001010001001100100000000011010001100010000001110001100000000101010101100001000001?0010000010000011010101011000001110101'\n b'101011?01100010100?11111000?11?011101110000?0011110110111111000101111110101?10111111110011000?000000011?01100110?0000111000001011?0110100?011100111?1??111111111111101111100000101100111100'\n b'ALLALLALLAMLchronicchronicAMLnonmalignantnonmalignantnonmalignantchronicchronicALLlymphomaAMLchronicchronicchronicALLALLALLnonmalignantchronicnonmalignantALLnonmalignantnonmalignantALLchronicALLALLALLALLnonmalignantchronicAMLnonmalignantchronicAMLAMLALLALLAMLnonmalignantAMLALLchronicnonmalignantALLALLALLALLnonmalignantnonmalignantnonmalignantnonmalignantnonmalignantchronicnonmalignantALLALLnonmalignantALLAMLchronicALLchronicchronicnonmalignantAMLALLALLnonmalignantlymphomachronicAMLchronicchronicALLchronicALLlymphomalymphomalymphomaAMLnonmalignantchronicAMLALLALLnonmalignantAMLALLnonmalignantchronicALLchroniclymphomachronicchronicAMLnonmalignantALLlymphomachronicAMLchronicALLAMLnonmalignantALLchronicchronicchronicchronicnonmalignantALLALLchronicnonmalignantALLchronicchronicchronicchronicALLAMLALLALLALLALLnonmalignantALLchronicAMLALLALLlymphomachronicALLALLAMLALLALLchronicAMLALLAMLchronicALLchronicALLchronicALLALLALLAMLAMLchronicchronicAMLALLALLALLALLALLnonmalignantALLAMLAMLAMLALLAMLAMLALLALLnonmalignantALLAMLALLALLAMLlymphomaAMLnonmalignantchronicnonmalignant'\n b'1000110000110111000010000010100000110100000000101100000011001101001101000100110100110001000000111010101100001010101000000100001001000010011001000110111000001100000101100101110000100111001'\n b'0000010000000000000010000010000000010000000000001000000010001101000001000000000000100000000000000000100100001000000000000000001000000000000000000000010000000100000100100100010000000010001'\n b'1111111000111111111110101001111110110111111011101111000001011011111101110111111111111011110110111111101111111011111011101111111111101111111111111111111111111111111111011111111101111111010'\n b'0000100301120001100011010003001010100100100000102002120231001010010211000101130100011002011010100020001100212021122110100100102120101102021002111210100001102110013001010021201101112000010'\n b'0000000100010000000000000001000000000000000000001001010110000000000100000000010000000001000000000010000000101010011000000000001010000001010001000100000000001000001000000010100000001000000'\n b'-1-1-1-11-1-11-1001-1-1-110-1-1-110-11-1-1-11-1-11-10-11-1-11-1-11-1-1-1-1-10-12-1-1110-1111-1-10-11-1-11-1100-1-1-11-1110-11-1-1-111-1-12-111-11-11-1-1-12-1-1-111-1-1211-11101211-10-1-11-1-10-1211-11-110-11-120-1-1111111-11-1-1-1-111-1101-1-111-1-10-11-1-1111-111-10010-1-1-1-11?'\n b'-1-1-1-10-1-12-1111-1-1-101-1-1-101-10-1-1-12-1-10-11-10-1-10-1-10-1-1-1-1-11-10-1-1102-1120-1-11-10-1-10-1111-1-1-10-1003-10-1-1-100-1-10-100-10-10-1-1-10-1-1-100-1-1001-11011000-11-1-10-1-11-1001-10-101-11-101-1-1100010-10-1-1-1-100-1110-1-102-1-11-10-1-1101-100-11102-1-1-1-10?'\n b'0000100703240001200011030007001020100100300000204005350473002010010422000101170100011004011010100040001100415041244110200100204340101204043004111430100001104310017002010051401102214000010'\n b'0001001100010111100110110000000001001001100011110100000000001011111101111111000001111011010100011000101010101000001000101001111011010110111110000101101111101101100100001010011001000011100'\n b'1012012210021222200221221100011002002002200122221211001000102022222202222222011112222022021201122111202120212111112111202002222022120221222220110212212222222202210210012120022002110122211'\n b'0110000000000100000000000000010000000100000000000000000000001000000000000000100110010101000000100100000000001000000010000000000010000000100000001000001000000100011001000101010000000010000'\n b'0110110011111111111111110110011101011111111111010101111110111111111101111111101111111111011110111100111101011100111111111010111101011011110100111101111010111101101111011111011111111101101'\n b'111?11??11001111?1111011011?1111?11011111?1?11110111111111?1111?0?1101111?1011111??1?111111000111?0101?001101?1110?111011?111001101?01111????11111011??10?111111011111111011?1111111??11101'] to numeric"
     ]
    }
   ],
   "source": [
    "# Fill missing values with the mean of each column\n",
    "df.fillna(df.mean(), inplace=True)\n",
    "\n",
    "# Verify that there are no more missing values\n",
    "plt.figure(figsize=(10, 6))\n",
    "sns.heatmap(df.isnull(), cbar=False, cmap='viridis')\n",
    "plt.title('Missing Values Heatmap After Handling')\n",
    "plt.show()"
   ]
  },
  {
   "cell_type": "markdown",
   "metadata": {},
   "source": []
  }
 ],
 "metadata": {
  "kernelspec": {
   "display_name": "base",
   "language": "python",
   "name": "python3"
  },
  "language_info": {
   "codemirror_mode": {
    "name": "ipython",
    "version": 3
   },
   "file_extension": ".py",
   "mimetype": "text/x-python",
   "name": "python",
   "nbconvert_exporter": "python",
   "pygments_lexer": "ipython3",
   "version": "3.12.7"
  }
 },
 "nbformat": 4,
 "nbformat_minor": 2
}
